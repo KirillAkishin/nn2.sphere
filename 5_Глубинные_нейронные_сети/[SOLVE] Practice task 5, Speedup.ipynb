{
 "cells": [
  {
   "cell_type": "markdown",
   "metadata": {
    "id": "bn27NI7zaf9Z"
   },
   "source": [
    "## Семинар 5: \"Улучшение сходимости нейросетей\""
   ]
  },
  {
   "cell_type": "markdown",
   "metadata": {
    "id": "kY9vse7waf9b"
   },
   "source": [
    "ФИО: Акишин Кирилл Алексеевич"
   ]
  },
  {
   "cell_type": "code",
   "execution_count": 8,
   "metadata": {
    "executionInfo": {
     "elapsed": 1357,
     "status": "ok",
     "timestamp": 1602204244049,
     "user": {
      "displayName": "Данила Байгушев",
      "photoUrl": "",
      "userId": "06862651594233453127"
     },
     "user_tz": -180
    },
    "id": "JdEAkdunaf9d"
   },
   "outputs": [],
   "source": [
    "import numpy as np\n",
    "from sklearn.model_selection import train_test_split\n",
    "import matplotlib.pyplot as plt\n",
    "import torch\n",
    "from torch import nn\n",
    "import torch.nn.functional as F\n",
    "from torch.autograd import Variable\n",
    "from torch.utils.data import DataLoader\n",
    "from torchvision.datasets import MNIST\n",
    "from torchvision import transforms\n",
    "\n",
    "from train_utils import train\n",
    "%matplotlib inline"
   ]
  },
  {
   "cell_type": "markdown",
   "metadata": {
    "id": "iIgr4r2Haf9l"
   },
   "source": [
    "На этом семинаре мы попробуем улучшить результаты, полученные на предыдущем занятии\n",
    "Для этого нам понадобятся следующие вещи:\n",
    "* Dropout\n",
    "* Batch Normalization\n",
    "* Инициализация весов"
   ]
  },
  {
   "cell_type": "markdown",
   "metadata": {
    "id": "CZHtxmbUaf9m"
   },
   "source": [
    "### Часть 1: Инициализация весов"
   ]
  },
  {
   "cell_type": "markdown",
   "metadata": {
    "id": "W8dhNr-faf9n"
   },
   "source": [
    "На лекции доказывалось, что при инициализации He и Glorot дисперсия активаций градиентов в каждом слое будут примерно равны. Давайте проверим это. "
   ]
  },
  {
   "cell_type": "code",
   "execution_count": 2,
   "metadata": {
    "executionInfo": {
     "elapsed": 638,
     "status": "ok",
     "timestamp": 1602204245453,
     "user": {
      "displayName": "Данила Байгушев",
      "photoUrl": "",
      "userId": "06862651594233453127"
     },
     "user_tz": -180
    },
    "id": "216zZRJAaf9o"
   },
   "outputs": [],
   "source": [
    "# Dataloader\n",
    "to_numpy = lambda x: x.numpy()\n",
    "transform = transforms.Compose([\n",
    "                       transforms.ToTensor(),\n",
    "                       transforms.Normalize((0.1307,), (0.3081,))\n",
    "                    ])\n",
    "train_dataset = MNIST('.', train=True, download=True, transform=transform)\n",
    "test_dataset = MNIST('.', train=False, transform=transform)\n",
    "\n",
    "train_loader = DataLoader(train_dataset, batch_size=128, shuffle=True)\n",
    "test_loader = DataLoader(test_dataset, batch_size=128, shuffle=True)"
   ]
  },
  {
   "cell_type": "code",
   "execution_count": 3,
   "metadata": {
    "executionInfo": {
     "elapsed": 1044,
     "status": "ok",
     "timestamp": 1602204248730,
     "user": {
      "displayName": "Данила Байгушев",
      "photoUrl": "",
      "userId": "06862651594233453127"
     },
     "user_tz": -180
    },
    "id": "EqpqV_pVaf9t"
   },
   "outputs": [],
   "source": [
    "images_train, labels_train = next(iter(train_loader))"
   ]
  },
  {
   "cell_type": "code",
   "execution_count": null,
   "metadata": {
    "executionInfo": {
     "elapsed": 8672,
     "status": "ok",
     "timestamp": 1602204258260,
     "user": {
      "displayName": "Данила Байгушев",
      "photoUrl": "",
      "userId": "06862651594233453127"
     },
     "user_tz": -180
    },
    "id": "agAN6Tyfaf9x"
   },
   "outputs": [],
   "source": [
    "## Usage example:\n",
    "for X, y in train_loader:\n",
    "    X = X.view(X.size(0), -1)\n",
    "    X = X.numpy() ### Converts torch.Tensor to numpy array\n",
    "    y = y.numpy()\n",
    "    pass"
   ]
  },
  {
   "cell_type": "code",
   "execution_count": 8,
   "metadata": {
    "colab": {
     "base_uri": "https://localhost:8080/",
     "height": 420
    },
    "executionInfo": {
     "elapsed": 8767,
     "status": "ok",
     "timestamp": 1602204259023,
     "user": {
      "displayName": "Данила Байгушев",
      "photoUrl": "",
      "userId": "06862651594233453127"
     },
     "user_tz": -180
    },
    "id": "71k9eU4Caf91",
    "outputId": "d056f30d-d7cf-4128-8736-5a83d5511445"
   },
   "outputs": [
    {
     "data": {
      "image/png": "[encoded data removed]",
      "text/plain": [
       "<Figure size 432x504 with 25 Axes>"
      ]
     },
     "metadata": {
      "needs_background": "light"
     },
     "output_type": "display_data"
    }
   ],
   "source": [
    "plt.figure(figsize=(6, 7))\n",
    "for i in range(25):\n",
    "    plt.subplot(5, 5, i+1)\n",
    "    plt.imshow(X[i].reshape(28, 28), cmap=plt.cm.Greys_r)\n",
    "    plt.title(y[i])\n",
    "    plt.axis('off')"
   ]
  },
  {
   "cell_type": "markdown",
   "metadata": {
    "id": "CjxGvxs8af98"
   },
   "source": [
    "<i> 1.1 </i> Инициализируйте полносвязную сеть нормальным шумом N(0, 0.1) с архитектурой 784 -> 500 x (10 раз) -> 10. В качестве активации возьмите tanh"
   ]
  },
  {
   "cell_type": "code",
   "execution_count": 28,
   "metadata": {
    "executionInfo": {
     "elapsed": 6511,
     "status": "ok",
     "timestamp": 1602204259025,
     "user": {
      "displayName": "Данила Байгушев",
      "photoUrl": "",
      "userId": "06862651594233453127"
     },
     "user_tz": -180
    },
    "id": "DgCP_qclaf99"
   },
   "outputs": [],
   "source": [
    "def init_layer(layer, mean=0, std=1):\n",
    "    # Тут надо быть аккуратным — можно случайно создать копию и менять значения у копии\n",
    "    weight = layer.state_dict()['weight']\n",
    "    bias = layer.state_dict()['bias']\n",
    "    bias.zero_()\n",
    "    #1 - веса сети\n",
    "    #2 - нули ...\n",
    "    #bias = torch.zeros_like(bias)\n",
    "    weight.normal_(mean=0, std=std)\n",
    "\n",
    "def forward_hook(self, input_, output):\n",
    "    std = input_[0].std().item()\n",
    "    print('forward', std)\n",
    "\n",
    "def backward_hook(self, grad_input, grad_output):\n",
    "    std = grad_input[0].std().item()\n",
    "    print('backward', std)\n",
    "\n",
    "    \n",
    "# пример:\n",
    "layer = nn.Linear(28*28, 10)\n",
    "layer.register_forward_hook(forward_hook)\n",
    "layer.register_backward_hook(backward_hook)\n",
    "init_layer(layer, 0.0, 0.1) # сюда надо подставить другие параметры"
   ]
  },
  {
   "cell_type": "code",
   "execution_count": 29,
   "metadata": {
    "colab": {
     "base_uri": "https://localhost:8080/",
     "height": 35
    },
    "executionInfo": {
     "elapsed": 5647,
     "status": "ok",
     "timestamp": 1602204259027,
     "user": {
      "displayName": "Данила Байгушев",
      "photoUrl": "",
      "userId": "06862651594233453127"
     },
     "user_tz": -180
    },
    "id": "roslMRZRaf-C",
    "outputId": "868e8bb3-e2bb-4ebc-da96-31021f57beb1"
   },
   "outputs": [
    {
     "name": "stdout",
     "output_type": "stream",
     "text": [
      "66\n"
     ]
    }
   ],
   "source": [
    "sizes = [28*28, 64, 32] + [16] * 30 + [10]\n",
    "layers = []\n",
    "\n",
    "def normal(size_input, size_output):\n",
    "    return 0.1\n",
    "    #return 1\n",
    "\n",
    "def xavier(size_input, size_output):\n",
    "    d = 2 / (size_input + size_output)\n",
    "    return np.sqrt(d)\n",
    "\n",
    "def good_grad(size_input, size_output):\n",
    "    d = 1 / size_output\n",
    "    return np.sqrt(d)\n",
    "\n",
    "#init_func = normal\n",
    "init_func = xavier\n",
    "#init_func = good_grad\n",
    "\n",
    "for size_input, size_output in zip(sizes, sizes[1:]):\n",
    "    \n",
    "    layer = nn.Linear(size_input, size_output)\n",
    "    layer.register_forward_hook(forward_hook)\n",
    "    layer.register_backward_hook(backward_hook)\n",
    "    init_layer(layer, 0.0, init_func(size_input, size_output)) # сюда надо подставить другие параметры\n",
    "    \n",
    "    layers.append(layer)\n",
    "    layers.append(nn.Tanh())\n",
    "    #layers.append(nn.Sigmoid())\n",
    "#     layers.append(nn.ReLU())\n",
    "    \n",
    "print(len(layers))\n",
    "del layers[-1]"
   ]
  },
  {
   "cell_type": "markdown",
   "metadata": {
    "id": "SsjtA7N_af-G"
   },
   "source": [
    "<i>1.2 Пропустите батч изображений через нейронную сеть и вычислите дисперсию активаций. Затем вычислите градиент и получите дисперсию градиентов. Сравните эти значения между собой для разных слоев.</i>"
   ]
  },
  {
   "cell_type": "code",
   "execution_count": 30,
   "metadata": {
    "colab": {
     "base_uri": "https://localhost:8080/",
     "height": 1000
    },
    "executionInfo": {
     "elapsed": 3872,
     "status": "ok",
     "timestamp": 1602204259406,
     "user": {
      "displayName": "Данила Байгушев",
      "photoUrl": "",
      "userId": "06862651594233453127"
     },
     "user_tz": -180
    },
    "id": "7Ri1Tvuyaf-K",
    "outputId": "e668298a-0f3e-4dbb-bbe5-84ab7346b44d",
    "scrolled": true
   },
   "outputs": [
    {
     "name": "stdout",
     "output_type": "stream",
     "text": [
      "forward 0.9888166785240173\n",
      "forward 0.7088513970375061\n",
      "forward 0.5805398225784302\n",
      "forward 0.5047137141227722\n",
      "forward 0.39620453119277954\n",
      "forward 0.37610137462615967\n",
      "forward 0.31880268454551697\n",
      "forward 0.2707365155220032\n",
      "forward 0.2122165709733963\n",
      "forward 0.1821998804807663\n",
      "forward 0.17639821767807007\n",
      "forward 0.17118211090564728\n",
      "forward 0.14465612173080444\n",
      "forward 0.1470162719488144\n",
      "forward 0.15239165723323822\n",
      "forward 0.14006851613521576\n",
      "forward 0.1161976158618927\n",
      "forward 0.10915877670049667\n",
      "forward 0.09243644028902054\n",
      "forward 0.09851299226284027\n",
      "forward 0.08463896065950394\n",
      "forward 0.08113657683134079\n",
      "forward 0.09427690505981445\n",
      "forward 0.09068375080823898\n",
      "forward 0.08796209841966629\n",
      "forward 0.067196786403656\n",
      "forward 0.05360449105501175\n",
      "forward 0.06075587123632431\n",
      "forward 0.058907296508550644\n",
      "forward 0.06172570213675499\n",
      "forward 0.0569266639649868\n",
      "forward 0.05058013275265694\n",
      "forward 0.05829774588346481\n",
      "backward 0.029814239591360092\n",
      "backward 0.08982010185718536\n",
      "backward 0.10215897858142853\n",
      "backward 0.09323159605264664\n",
      "backward 0.11105365306138992\n",
      "backward 0.08922871202230453\n",
      "backward 0.11635471880435944\n",
      "backward 0.10749360173940659\n",
      "backward 0.117477186024189\n",
      "backward 0.11549805849790573\n",
      "backward 0.11493905633687973\n",
      "backward 0.0911979228258133\n",
      "backward 0.11068130284547806\n",
      "backward 0.10022177547216415\n",
      "backward 0.10656388103961945\n",
      "backward 0.1018756702542305\n",
      "backward 0.11724192649126053\n",
      "backward 0.10192228108644485\n",
      "backward 0.10928713530302048\n",
      "backward 0.08791795372962952\n",
      "backward 0.05923260375857353\n",
      "backward 0.043515902012586594\n",
      "backward 0.03763238713145256\n",
      "backward 0.04974040389060974\n",
      "backward 0.03820662945508957\n",
      "backward 0.034170642495155334\n",
      "backward 0.029690630733966827\n",
      "backward 0.019578037783503532\n",
      "backward 0.011444242671132088\n",
      "backward 0.010588442906737328\n",
      "backward 0.009387466125190258\n",
      "backward 0.00519956462085247\n",
      "backward 0.0023727307561784983\n"
     ]
    }
   ],
   "source": [
    "network = nn.Sequential(*layers)\n",
    "\n",
    "#пример:\n",
    "n_objects = 100\n",
    "X = images_train[:n_objects].view(n_objects, -1).data\n",
    "y = labels_train[:n_objects].data\n",
    "activations = network(X)\n",
    "loss_fn = torch.nn.NLLLoss()\n",
    "optimizer = torch.optim.Adam(network.parameters(), lr=0.001) \n",
    "loss = loss_fn(activations, y)\n",
    "loss.backward()"
   ]
  },
  {
   "cell_type": "markdown",
   "metadata": {
    "id": "aUJG1Dbqaf-R"
   },
   "source": [
    "<i>1.3 Повторите эксперимент для инициализаций He и Xavier (формулы есть в лекции).</i>"
   ]
  },
  {
   "cell_type": "code",
   "execution_count": 36,
   "metadata": {},
   "outputs": [],
   "source": [
    "sizes = [28*28, 64, 32] + [16] * 30 + [10]\n",
    "\n",
    "def xavier(size_input, size_output):\n",
    "    d = 2 / (size_input + size_output)\n",
    "    return np.sqrt(d)\n",
    "\n",
    "def he_forward(size_input, size_output):\n",
    "    d = 2 / (size_input)\n",
    "    return np.sqrt(d)\n",
    "\n",
    "def he_backward(size_input, size_output):\n",
    "    d = 2 / (size_output)\n",
    "    return np.sqrt(d)"
   ]
  },
  {
   "cell_type": "code",
   "execution_count": 48,
   "metadata": {},
   "outputs": [
    {
     "name": "stdout",
     "output_type": "stream",
     "text": [
      "66\n",
      "forward 0.9888166785240173\n",
      "forward 0.87114417552948\n",
      "forward 0.9678714871406555\n",
      "forward 1.044517159461975\n",
      "forward 1.8193546533584595\n",
      "forward 1.717124581336975\n",
      "forward 1.994058609008789\n",
      "forward 1.589918851852417\n",
      "forward 1.7165136337280273\n",
      "forward 2.1189064979553223\n",
      "forward 1.0491375923156738\n",
      "forward 0.60286545753479\n",
      "forward 0.43393659591674805\n",
      "forward 0.4329237639904022\n",
      "forward 0.27248135209083557\n",
      "forward 0.3012445271015167\n",
      "forward 0.32308000326156616\n",
      "forward 0.2681889533996582\n",
      "forward 0.25924819707870483\n",
      "forward 0.22154967486858368\n",
      "forward 0.19733864068984985\n",
      "forward 0.23222514986991882\n",
      "forward 0.19286327064037323\n",
      "forward 0.1566230058670044\n",
      "forward 0.17478559911251068\n",
      "forward 0.29291942715644836\n",
      "forward 0.27427050471305847\n",
      "forward 0.36434805393218994\n",
      "forward 0.577519953250885\n",
      "forward 0.6152333617210388\n",
      "forward 0.46143826842308044\n",
      "forward 0.33006590604782104\n",
      "forward 0.26058197021484375\n",
      "backward 0.029814239591360092\n",
      "backward 0.06942945718765259\n",
      "backward 0.07272286713123322\n",
      "backward 0.04151594638824463\n",
      "backward 0.03816146403551102\n",
      "backward 0.03016730397939682\n",
      "backward 0.03444806858897209\n",
      "backward 0.043927356600761414\n",
      "backward 0.04147624224424362\n",
      "backward 0.07320185005664825\n",
      "backward 0.07350429147481918\n",
      "backward 0.10059849917888641\n",
      "backward 0.0635007992386818\n",
      "backward 0.06512635201215744\n",
      "backward 0.05565737560391426\n",
      "backward 0.03805946186184883\n",
      "backward 0.056182388216257095\n",
      "backward 0.03065263293683529\n",
      "backward 0.022734269499778748\n",
      "backward 0.03032059594988823\n",
      "backward 0.03319406509399414\n",
      "backward 0.02223939262330532\n",
      "backward 0.014070983976125717\n",
      "backward 0.019048107787966728\n",
      "backward 0.026024239137768745\n",
      "backward 0.01579250767827034\n",
      "backward 0.016203634440898895\n",
      "backward 0.012874098494648933\n",
      "backward 0.00964321382343769\n",
      "backward 0.010239841416478157\n",
      "backward 0.012299612164497375\n",
      "backward 0.006150439847260714\n",
      "backward 0.0039016336668282747\n"
     ]
    }
   ],
   "source": [
    "# he good forward\n",
    "init_func = he_forward\n",
    "\n",
    "layers = []\n",
    "for size_input, size_output in zip(sizes, sizes[1:]):\n",
    "    \n",
    "    layer = nn.Linear(size_input, size_output)\n",
    "    layer.register_forward_hook(forward_hook)\n",
    "    layer.register_backward_hook(backward_hook)\n",
    "    init_layer(layer, 0.0, init_func(size_input, size_output)) \n",
    "    \n",
    "    layers.append(layer)\n",
    "    layers.append(nn.ReLU())\n",
    "    \n",
    "print(len(layers))\n",
    "del layers[-1]\n",
    "\n",
    "network = nn.Sequential(*layers)\n",
    "\n",
    "#пример:\n",
    "n_objects = 100\n",
    "X = images_train[:n_objects].view(n_objects, -1).data\n",
    "y = labels_train[:n_objects].data\n",
    "activations = network(X)\n",
    "loss_fn = torch.nn.NLLLoss()\n",
    "optimizer = torch.optim.Adam(network.parameters(), lr=0.001) \n",
    "loss = loss_fn(activations, y)\n",
    "loss.backward()"
   ]
  },
  {
   "cell_type": "code",
   "execution_count": 50,
   "metadata": {},
   "outputs": [
    {
     "name": "stdout",
     "output_type": "stream",
     "text": [
      "66\n",
      "forward 0.9888166785240173\n",
      "forward 3.027829647064209\n",
      "forward 4.310072898864746\n",
      "forward 4.712921142578125\n",
      "forward 5.031184673309326\n",
      "forward 5.214681148529053\n",
      "forward 6.477756500244141\n",
      "forward 6.240345478057861\n",
      "forward 8.145059585571289\n",
      "forward 3.402435541152954\n",
      "forward 4.76039457321167\n",
      "forward 2.9447243213653564\n",
      "forward 1.3291665315628052\n",
      "forward 1.266890048980713\n",
      "forward 1.3222784996032715\n",
      "forward 0.8278153538703918\n",
      "forward 0.7150821685791016\n",
      "forward 0.5787914395332336\n",
      "forward 0.3959072530269623\n",
      "forward 0.31626760959625244\n",
      "forward 0.3687199652194977\n",
      "forward 0.3444820046424866\n",
      "forward 0.3945525288581848\n",
      "forward 0.4806670546531677\n",
      "forward 0.4822655916213989\n",
      "forward 0.38995981216430664\n",
      "forward 0.22060349583625793\n",
      "forward 0.2508120536804199\n",
      "forward 0.15324588119983673\n",
      "forward 0.24100501835346222\n",
      "forward 0.15410979092121124\n",
      "forward 0.20860235393047333\n",
      "forward 0.2642192542552948\n",
      "backward 0.029814239591360092\n",
      "backward 0.06552472710609436\n",
      "backward 0.09657445549964905\n",
      "backward 0.12216305732727051\n",
      "backward 0.11747141927480698\n",
      "backward 0.0791839063167572\n",
      "backward 0.057717833667993546\n",
      "backward 0.0517430379986763\n",
      "backward 0.038299065083265305\n",
      "backward 0.04477663338184357\n",
      "backward 0.04423060268163681\n",
      "backward 0.04017472639679909\n",
      "backward 0.035264309495687485\n",
      "backward 0.03634165972471237\n",
      "backward 0.02169233001768589\n",
      "backward 0.020926766097545624\n",
      "backward 0.02099565975368023\n",
      "backward 0.018779311329126358\n",
      "backward 0.02167610079050064\n",
      "backward 0.02031160332262516\n",
      "backward 0.029619207605719566\n",
      "backward 0.025471189990639687\n",
      "backward 0.010682862251996994\n",
      "backward 0.008634333498775959\n",
      "backward 0.00761015759781003\n",
      "backward 0.007468369323760271\n",
      "backward 0.012488331645727158\n",
      "backward 0.011563526466488838\n",
      "backward 0.004729471169412136\n",
      "backward 0.003201302606612444\n",
      "backward 0.0022971343714743853\n",
      "backward 0.002123797545209527\n",
      "backward 0.001936272019520402\n"
     ]
    }
   ],
   "source": [
    "# he, good backward\n",
    "init_func = he_backward\n",
    "\n",
    "layers = []\n",
    "for size_input, size_output in zip(sizes, sizes[1:]):\n",
    "    \n",
    "    layer = nn.Linear(size_input, size_output)\n",
    "    layer.register_forward_hook(forward_hook)\n",
    "    layer.register_backward_hook(backward_hook)\n",
    "    init_layer(layer, 0.0, init_func(size_input, size_output)) \n",
    "    \n",
    "    layers.append(layer)\n",
    "    layers.append(nn.ReLU())\n",
    "    \n",
    "print(len(layers))\n",
    "del layers[-1]\n",
    "\n",
    "network = nn.Sequential(*layers)\n",
    "\n",
    "#пример:\n",
    "n_objects = 100\n",
    "X = images_train[:n_objects].view(n_objects, -1).data\n",
    "y = labels_train[:n_objects].data\n",
    "activations = network(X)\n",
    "loss_fn = torch.nn.NLLLoss()\n",
    "optimizer = torch.optim.Adam(network.parameters(), lr=0.001) \n",
    "loss = loss_fn(activations, y)\n",
    "loss.backward()"
   ]
  },
  {
   "cell_type": "code",
   "execution_count": 53,
   "metadata": {
    "id": "FyD1lPKwaf-T"
   },
   "outputs": [
    {
     "name": "stdout",
     "output_type": "stream",
     "text": [
      "forward 0.9888166785240173\n",
      "forward 0.7067306041717529\n",
      "forward 0.5606899857521057\n",
      "forward 0.5151130557060242\n",
      "forward 0.4279530346393585\n",
      "forward 0.35524001717567444\n",
      "forward 0.3260772228240967\n",
      "forward 0.27758291363716125\n",
      "forward 0.27272987365722656\n",
      "forward 0.21055802702903748\n",
      "forward 0.2340642809867859\n",
      "forward 0.2015397697687149\n",
      "forward 0.16961485147476196\n",
      "forward 0.1533295214176178\n",
      "forward 0.17983019351959229\n",
      "forward 0.16254444420337677\n",
      "forward 0.15973317623138428\n",
      "forward 0.13035492599010468\n",
      "forward 0.16483381390571594\n",
      "forward 0.16933706402778625\n",
      "forward 0.14078739285469055\n",
      "forward 0.12165464460849762\n",
      "forward 0.12484656274318695\n",
      "forward 0.14289677143096924\n",
      "forward 0.1254110187292099\n",
      "forward 0.13295213878154755\n",
      "forward 0.11593436449766159\n",
      "forward 0.10549737513065338\n",
      "forward 0.08822566270828247\n",
      "forward 0.058545708656311035\n",
      "forward 0.05582911893725395\n",
      "forward 0.06798259913921356\n",
      "forward 0.07327619940042496\n",
      "backward 0.029814239591360092\n",
      "backward 0.09542495757341385\n",
      "backward 0.1158800944685936\n",
      "backward 0.12802822887897491\n",
      "backward 0.13508476316928864\n",
      "backward 0.13766679167747498\n",
      "backward 0.12169491499662399\n",
      "backward 0.09645478427410126\n",
      "backward 0.08726558089256287\n",
      "backward 0.07067928463220596\n",
      "backward 0.07675404101610184\n",
      "backward 0.08400437980890274\n",
      "backward 0.07084707915782928\n",
      "backward 0.06508450210094452\n",
      "backward 0.06100659444928169\n",
      "backward 0.06009012833237648\n",
      "backward 0.06134066358208656\n",
      "backward 0.061656735837459564\n",
      "backward 0.049954723566770554\n",
      "backward 0.04486893117427826\n",
      "backward 0.040127940475940704\n",
      "backward 0.038140520453453064\n",
      "backward 0.028127217665314674\n",
      "backward 0.025786017999053\n",
      "backward 0.02549002878367901\n",
      "backward 0.028101211413741112\n",
      "backward 0.02059236168861389\n",
      "backward 0.01743709109723568\n",
      "backward 0.019259827211499214\n",
      "backward 0.013900231570005417\n",
      "backward 0.011238387785851955\n",
      "backward 0.004893783014267683\n",
      "backward 0.0031033367849886417\n"
     ]
    }
   ],
   "source": [
    "# xavier\n",
    "init_func = xavier\n",
    "\n",
    "layers = []\n",
    "for size_input, size_output in zip(sizes, sizes[1:]):\n",
    "    \n",
    "    layer = nn.Linear(size_input, size_output)\n",
    "    layer.register_forward_hook(forward_hook)\n",
    "    layer.register_backward_hook(backward_hook)\n",
    "    init_layer(layer, 0.0, init_func(size_input, size_output)) \n",
    "    \n",
    "    layers.append(layer)\n",
    "    layers.append(nn.Tanh())\n",
    "\n",
    "del layers[-1]\n",
    "\n",
    "network = nn.Sequential(*layers)\n",
    "\n",
    "#пример:\n",
    "n_objects = 100\n",
    "X = images_train[:n_objects].view(n_objects, -1).data\n",
    "y = labels_train[:n_objects].data\n",
    "activations = network(X)\n",
    "loss_fn = torch.nn.NLLLoss()\n",
    "optimizer = torch.optim.Adam(network.parameters(), lr=0.001) \n",
    "loss = loss_fn(activations, y)\n",
    "loss.backward()"
   ]
  },
  {
   "cell_type": "markdown",
   "metadata": {
    "id": "7U2YSSw5af-Y"
   },
   "source": [
    "<i> 1.4 Сделайте выводы по первой части </i>"
   ]
  },
  {
   "cell_type": "markdown",
   "metadata": {
    "id": "NBQ7o-hjaf-a"
   },
   "source": [
    "1. Если $f_{activation}(x) \\approx x$, при $x \\to 0$, то выгоднее использовать $Xavier$\n",
    "2. Иначе выгоднее использовать $He$\n",
    "3. Для увеличения скорости обучения (точнее скорости изменения весов) выгоднее использовать $He_{good backward}$\n",
    "4. Но противодействовать затуханию/взрыву весов выгоднее с помощью $He_{good forward}$"
   ]
  },
  {
   "cell_type": "markdown",
   "metadata": {
    "id": "4kYx-hwLaf-b"
   },
   "source": [
    "### Часть 2: Dropout"
   ]
  },
  {
   "cell_type": "markdown",
   "metadata": {
    "id": "mDoy5_yEaf-c"
   },
   "source": [
    "Другим полезным слоем является Dropout. В нем с вероятностью 1-p зануляется выход каждого нейрона. Этот слой уже реализован в pyTorch, поэтому вновь реализовывать его не интересно. Давайте реализуем DropConnect — аналог Dropout. В нем с вероятностью 1-p зануляется каждый вес слоя."
   ]
  },
  {
   "cell_type": "markdown",
   "metadata": {
    "id": "hxi77m72af-d"
   },
   "source": [
    "<i> 2.1 Реализуйте линейный слой с DropConnect </i>"
   ]
  },
  {
   "cell_type": "code",
   "execution_count": 4,
   "metadata": {
    "executionInfo": {
     "elapsed": 903,
     "status": "ok",
     "timestamp": 1602204261440,
     "user": {
      "displayName": "Данила Байгушев",
      "photoUrl": "",
      "userId": "06862651594233453127"
     },
     "user_tz": -180
    },
    "id": "Ee2ljeNCaf-f"
   },
   "outputs": [],
   "source": [
    "# полезная функция: .bernoulli_(p)\n",
    "# не забывайте делать requires_grad=False у маски\n",
    "# помните, что в вычислениях должны участвовать Variable, а не тензоры\n",
    "\n",
    "class DropConnect(nn.Module):\n",
    "    def __init__(self, input_dim, output_dim, p=0.5):\n",
    "        super(DropConnect, self).__init__()\n",
    "        self.linear = nn.Linear(input_dim, output_dim)\n",
    "        self.p = p\n",
    "\n",
    "    def forward(self, x):    \n",
    "        mask = torch.zeros_like(self.linear.weight) + self.p\n",
    "        if self.training:          \n",
    "            mask.bernoulli_()\n",
    "\n",
    "        mask = mask.data\n",
    "        output = F.linear(x, self.linear.weight * mask, self.linear.bias)\n",
    "        return output"
   ]
  },
  {
   "cell_type": "markdown",
   "metadata": {
    "id": "CCv4jdyoaf-k"
   },
   "source": [
    "<i> \n",
    "2.2 Сравните графики обучения нейроных сетей:\n",
    "1. Свертки из TestNetwork -> 128 -> 128 -> 10 с ReLU и Dropout между всеми слоями \n",
    "2. Свертки из TestNetwork -> 128 -> 128 -> 10 с ReLU DropConnect вместо всех линейных слоев\n",
    "</i>"
   ]
  },
  {
   "cell_type": "code",
   "execution_count": 5,
   "metadata": {
    "executionInfo": {
     "elapsed": 1160,
     "status": "ok",
     "timestamp": 1602204263658,
     "user": {
      "displayName": "Данила Байгушев",
      "photoUrl": "",
      "userId": "06862651594233453127"
     },
     "user_tz": -180
    },
    "id": "uC3EYVlraf-m"
   },
   "outputs": [],
   "source": [
    "class TestNetwork(nn.Module):\n",
    "    def __init__(self, final_part):\n",
    "        super().__init__()    \n",
    "        \n",
    "        channels = 1\n",
    "        \n",
    "        self.conv_layers = nn.Sequential(\n",
    "            nn.Conv2d(channels, 2, 3, padding=1),    \n",
    "            nn.MaxPool2d(2),\n",
    "            nn.ReLU(),\n",
    "            nn.Conv2d(2, 4, 3, padding=1),            \n",
    "            nn.MaxPool2d(2),\n",
    "            nn.ReLU(),\n",
    "        )\n",
    "        \n",
    "        #input_size = 7 * 7 * 4 = 196\n",
    "        self.flatten = nn.Flatten()\n",
    "        \n",
    "        self.final_part = final_part\n",
    "        \n",
    "        self.log_softmax = nn.LogSoftmax(1)        \n",
    "        \n",
    "    def forward(self, x):\n",
    "        x = self.conv_layers(x)\n",
    "        x = self.flatten(x)\n",
    "        x = self.final_part(x)\n",
    "        return self.log_softmax(x)"
   ]
  },
  {
   "cell_type": "code",
   "execution_count": 7,
   "metadata": {
    "scrolled": true
   },
   "outputs": [
    {
     "name": "stdout",
     "output_type": "stream",
     "text": [
      "Epoch 14... (Train/Test) NLL: 0.050/0.074\tAccuracy: 0.984/0.975\n"
     ]
    },
    {
     "data": {
      "image/png": "[encoded data removed]",
      "text/plain": [
       "<Figure size 864x360 with 2 Axes>"
      ]
     },
     "metadata": {
      "needs_background": "light"
     },
     "output_type": "display_data"
    },
    {
     "name": "stdout",
     "output_type": "stream",
     "text": [
      "CPU times: user 13min 44s, sys: 44.7 s, total: 14min 29s\n",
      "Wall time: 7min 21s\n"
     ]
    },
    {
     "data": {
      "text/plain": [
       "([0.6204112659194576,\n",
       "  0.20850546862969774,\n",
       "  0.15956009200005644,\n",
       "  0.13248346032682004,\n",
       "  0.11626086257366357,\n",
       "  0.10302280015480925,\n",
       "  0.09301628016118112,\n",
       "  0.08343660748446546,\n",
       "  0.07792385979128608,\n",
       "  0.07203369009207243,\n",
       "  0.06686592407461041,\n",
       "  0.06177441065094428,\n",
       "  0.05857783354181391,\n",
       "  0.05473000420156175,\n",
       "  0.0498590272903911],\n",
       " [0.24113394744411298,\n",
       "  0.16875085347815405,\n",
       "  0.13511401853418048,\n",
       "  0.11501259672679479,\n",
       "  0.10402276164180116,\n",
       "  0.09753329752461065,\n",
       "  0.09184846223060843,\n",
       "  0.08454667300551752,\n",
       "  0.0806457207927221,\n",
       "  0.08036749149802365,\n",
       "  0.07956109012040911,\n",
       "  0.07221854195776808,\n",
       "  0.07042397197948981,\n",
       "  0.06751769113271863,\n",
       "  0.07365245508808124],\n",
       " [0.8094627,\n",
       "  0.9351513,\n",
       "  0.9508151,\n",
       "  0.95892745,\n",
       "  0.96329176,\n",
       "  0.967906,\n",
       "  0.9707211,\n",
       "  0.97349745,\n",
       "  0.9752521,\n",
       "  0.9767569,\n",
       "  0.9789834,\n",
       "  0.9800551,\n",
       "  0.9807325,\n",
       "  0.98214287,\n",
       "  0.98358655],\n",
       " [0.9256329,\n",
       "  0.94689476,\n",
       "  0.9559929,\n",
       "  0.9631131,\n",
       "  0.96815664,\n",
       "  0.96805775,\n",
       "  0.9705301,\n",
       "  0.97349685,\n",
       "  0.9746835,\n",
       "  0.97359574,\n",
       "  0.9753758,\n",
       "  0.97725475,\n",
       "  0.9778481,\n",
       "  0.97765034,\n",
       "  0.9747824])"
      ]
     },
     "execution_count": 7,
     "metadata": {},
     "output_type": "execute_result"
    }
   ],
   "source": [
    "%%time\n",
    "\n",
    "# TestNetwork -> 196 -> 128 -> 10 с ReLU\n",
    "sizes = [196, 128, 10]\n",
    "layers = []\n",
    "for size_input, size_output in zip(sizes, sizes[1:]):\n",
    "    layer = nn.Linear(size_input, size_output)\n",
    "    \n",
    "    layers.append(layer)\n",
    "    layers.append(nn.ReLU())\n",
    "del layers[-1]\n",
    "\n",
    "from train_utils import train\n",
    "network = TestNetwork(nn.Sequential(*layers))\n",
    "train(network, train_loader, test_loader, 15, 0.001, device='cpu');"
   ]
  },
  {
   "cell_type": "code",
   "execution_count": 15,
   "metadata": {
    "scrolled": true
   },
   "outputs": [
    {
     "name": "stdout",
     "output_type": "stream",
     "text": [
      "Epoch 14... (Train/Test) NLL: 0.921/0.067\tAccuracy: 0.587/0.980\n"
     ]
    },
    {
     "data": {
      "image/png": "[encoded data removed]",
      "text/plain": [
       "<Figure size 864x360 with 2 Axes>"
      ]
     },
     "metadata": {
      "needs_background": "light"
     },
     "output_type": "display_data"
    },
    {
     "name": "stdout",
     "output_type": "stream",
     "text": [
      "CPU times: user 12min 52s, sys: 37.9 s, total: 13min 30s\n",
      "Wall time: 6min 48s\n"
     ]
    },
    {
     "data": {
      "text/plain": [
       "([1.303693431781045,\n",
       "  1.0398539650414798,\n",
       "  0.9972305407147926,\n",
       "  0.9734193143814103,\n",
       "  0.9609831538535892,\n",
       "  0.9483865421972295,\n",
       "  0.9464183860241986,\n",
       "  0.9504941816268954,\n",
       "  0.9435212319847871,\n",
       "  0.9337629143363123,\n",
       "  0.9310833203004621,\n",
       "  0.9266377953069804,\n",
       "  0.923629729478344,\n",
       "  0.9233708642184861,\n",
       "  0.9214644491799605],\n",
       " [0.24102135493031032,\n",
       "  0.16269720543788957,\n",
       "  0.1324793101300167,\n",
       "  0.10819604709933076,\n",
       "  0.11124632653744915,\n",
       "  0.09082920137274114,\n",
       "  0.0851341659509683,\n",
       "  0.08613327343629885,\n",
       "  0.08156902576454833,\n",
       "  0.07154977513783717,\n",
       "  0.07771903524010242,\n",
       "  0.07241019458050214,\n",
       "  0.07029649006980884,\n",
       "  0.0679793083285795,\n",
       "  0.0674851176010657],\n",
       " [0.49967238,\n",
       "  0.56404364,\n",
       "  0.57220596,\n",
       "  0.5782916,\n",
       "  0.58096796,\n",
       "  0.58283365,\n",
       "  0.5820229,\n",
       "  0.58096236,\n",
       "  0.58122337,\n",
       "  0.58350545,\n",
       "  0.5862818,\n",
       "  0.5854489,\n",
       "  0.58704245,\n",
       "  0.58644277,\n",
       "  0.5865483],\n",
       " [0.9493671,\n",
       "  0.96073973,\n",
       "  0.96400315,\n",
       "  0.97072786,\n",
       "  0.9688489,\n",
       "  0.9747824,\n",
       "  0.97498024,\n",
       "  0.9764636,\n",
       "  0.976068,\n",
       "  0.97854036,\n",
       "  0.97824365,\n",
       "  0.9778481,\n",
       "  0.9783426,\n",
       "  0.9794304,\n",
       "  0.97952926])"
      ]
     },
     "execution_count": 15,
     "metadata": {},
     "output_type": "execute_result"
    }
   ],
   "source": [
    "%%time\n",
    "\n",
    "# TestNetwork -> 196 -> 128 -> 10 с ReLU и Dropout между всеми слоями \n",
    "sizes = [196, 128, 10]\n",
    "layers = []\n",
    "for size_input, size_output in zip(sizes, sizes[1:]):\n",
    "    layer = nn.Linear(size_input, size_output)\n",
    "    \n",
    "    layers.append(layer)\n",
    "    layers.append(nn.Dropout(0.5))\n",
    "    layers.append(nn.ReLU())\n",
    "del layers[-1]\n",
    "\n",
    "from train_utils import train\n",
    "network = TestNetwork(nn.Sequential(*layers))\n",
    "train(network, train_loader, test_loader, 15, 0.001, device='cpu')"
   ]
  },
  {
   "cell_type": "code",
   "execution_count": 13,
   "metadata": {
    "scrolled": true
   },
   "outputs": [
    {
     "name": "stdout",
     "output_type": "stream",
     "text": [
      "Epoch 14... (Train/Test) NLL: 0.168/0.080\tAccuracy: 0.946/0.974\n"
     ]
    },
    {
     "data": {
      "image/png": "[encoded data removed]",
      "text/plain": [
       "<Figure size 864x360 with 2 Axes>"
      ]
     },
     "metadata": {
      "needs_background": "light"
     },
     "output_type": "display_data"
    },
    {
     "name": "stdout",
     "output_type": "stream",
     "text": [
      "CPU times: user 13min 20s, sys: 42.2 s, total: 14min 2s\n",
      "Wall time: 7min 5s\n"
     ]
    },
    {
     "data": {
      "text/plain": [
       "([1.1232200709106064,\n",
       "  0.6126134467404535,\n",
       "  0.49898260221806673,\n",
       "  0.40385350645351004,\n",
       "  0.3384495030588178,\n",
       "  0.29169266205479594,\n",
       "  0.2651284711002541,\n",
       "  0.24193212361351005,\n",
       "  0.22087658732049248,\n",
       "  0.20804841864877927,\n",
       "  0.19469821842303917,\n",
       "  0.18891882316580713,\n",
       "  0.17988538355238912,\n",
       "  0.17522930741500753,\n",
       "  0.16831017805060852],\n",
       " [0.46188238602650317,\n",
       "  0.3525908598794213,\n",
       "  0.27021532194523873,\n",
       "  0.21128993151308614,\n",
       "  0.1748717197134525,\n",
       "  0.15092746823837486,\n",
       "  0.13221914038250718,\n",
       "  0.12586292409915714,\n",
       "  0.11072847639693867,\n",
       "  0.10285519115343879,\n",
       "  0.09620729720667948,\n",
       "  0.09407105344005778,\n",
       "  0.08467238876214132,\n",
       "  0.08207271668965681,\n",
       "  0.08041915693615057],\n",
       " [0.62079114,\n",
       "  0.7946817,\n",
       "  0.8354822,\n",
       "  0.8696251,\n",
       "  0.89130247,\n",
       "  0.90681636,\n",
       "  0.91612804,\n",
       "  0.9239628,\n",
       "  0.9308314,\n",
       "  0.9343572,\n",
       "  0.93875486,\n",
       "  0.94098145,\n",
       "  0.94310254,\n",
       "  0.9446795,\n",
       "  0.94604546],\n",
       " [0.8571994,\n",
       "  0.89260286,\n",
       "  0.91890824,\n",
       "  0.9362144,\n",
       "  0.94738925,\n",
       "  0.95243275,\n",
       "  0.95797074,\n",
       "  0.96064085,\n",
       "  0.9646954,\n",
       "  0.9672666,\n",
       "  0.9686511,\n",
       "  0.97072786,\n",
       "  0.97181565,\n",
       "  0.97320014,\n",
       "  0.9737935])"
      ]
     },
     "execution_count": 13,
     "metadata": {},
     "output_type": "execute_result"
    }
   ],
   "source": [
    "%%time\n",
    "\n",
    "# TestNetwork -> 196 -> 128 -> 10 с ReLU DropConnect вместо всех линейных слоев \n",
    "sizes = [196, 128, 10]\n",
    "layers = []\n",
    "for size_input, size_output in zip(sizes, sizes[1:]):\n",
    "    layer = DropConnect(size_input, size_output, 0.5)\n",
    "    \n",
    "    layers.append(layer)\n",
    "    layers.append(nn.ReLU())\n",
    "del layers[-1]\n",
    "\n",
    "from train_utils import train\n",
    "network = TestNetwork(nn.Sequential(*layers))\n",
    "train(network, train_loader, test_loader, 15, 0.001, device='cpu')"
   ]
  },
  {
   "cell_type": "markdown",
   "metadata": {
    "id": "pooEVZFbaf_L"
   },
   "source": [
    "В test-time стохастичность Dropout убирают и заменяют все веса на их ожидаемое значение: $\\mathbb{E}w = pw + (1-p)0 = pw$."
   ]
  },
  {
   "cell_type": "markdown",
   "metadata": {
    "id": "yfBC8qS4af_K"
   },
   "source": [
    "<i> 2.3 Сделайте выводы по третьей части. </i>"
   ]
  },
  {
   "cell_type": "markdown",
   "metadata": {
    "id": "zFTfYoSSvm5h"
   },
   "source": [
    "1. В первом случае (без Dropout и DropConnect) сеть быстро переобучается\n",
    "2. Dropout и DropConnect выступают в роли регуляризации и противодействуют переобучению сети, так как задействованы все нейроны и они менее скоррелированы между собой.\n",
    "3. При Dropout и DropConnect случай train будет тяжелее случая test\n",
    "\n",
    "5. Чтобы результат по множеству плохих (с выкинутыми нейронами или весами) моделей был лучше результата одной полной модели, надо чтобы прошло много эпох"
   ]
  },
  {
   "cell_type": "markdown",
   "metadata": {
    "id": "if-VP-I4af_M"
   },
   "source": [
    "### Часть 3: Batch Normalization"
   ]
  },
  {
   "cell_type": "markdown",
   "metadata": {
    "id": "Vba0rSy-af_N"
   },
   "source": [
    "Наконец, давайте рассмотрим Batch Normalization. Этот слой вычитает среднее и делит на стандартное отклонение. Среднее и дисперсия вычисляются по батчу независимо для каждого нейрона. У этого слоя есть две важные проблемы: его нельзя использовать при обучении с размером батча 1 и он делает элементы батча зависимыми. Давайте реализуем аналог батч нормализации: <a href=https://arxiv.org/pdf/1607.06450.pdf>Layer normalization</a>. В layer normalization среднее и дисперсия вычисляются по активациям нейронов, независимо для каждого объекта."
   ]
  },
  {
   "cell_type": "markdown",
   "metadata": {
    "id": "cqUTAtjIaf_O"
   },
   "source": [
    "<i> 3.1 Реализуйте Layer Normalization </i>"
   ]
  },
  {
   "cell_type": "code",
   "execution_count": 312,
   "metadata": {},
   "outputs": [],
   "source": [
    "# полезные функции: .std(dim), .mean(dim)\n",
    "\n",
    "class BatchNormalization(nn.Module):\n",
    "    def forward(self, x):\n",
    "        output = x.clone()\n",
    "        mu = output.mean(0) \n",
    "        sigma = x.std(0)\n",
    "        output -= mu\n",
    "        output *= torch.from_numpy(sigma.detach().numpy())\n",
    "        return output\n",
    "\n",
    "class LayerNormalization(nn.Module):\n",
    "    def forward(self, x):\n",
    "        output = x.clone()\n",
    "        mu = output.mean(1) \n",
    "        sigma = output.std(1)\n",
    "        for i in range(x.shape[1]):\n",
    "            output[:,i] -= mu\n",
    "            output[:,i] /= torch.from_numpy(sigma.detach().numpy())\n",
    "        return output"
   ]
  },
  {
   "cell_type": "markdown",
   "metadata": {
    "id": "g2sTZ7h5af_T"
   },
   "source": [
    "<i> \n",
    "3.2 Сравните графики обучения нейроных сетей:\n",
    "1. Свертки из TestNetwork -> 128 -> 128 -> 10 с ReLU и Batch normalization между всеми слоями \n",
    "2. Свертки из TestNetwork -> 128 -> 128 -> 10 с ReLU и Layer normalization между всеми слоями \n",
    "</i>"
   ]
  },
  {
   "cell_type": "code",
   "execution_count": 285,
   "metadata": {
    "id": "q1PPqKRZaf_U",
    "scrolled": true
   },
   "outputs": [
    {
     "name": "stdout",
     "output_type": "stream",
     "text": [
      "Epoch 9... (Train/Test) NLL: 0.078/0.074\tAccuracy: 0.976/0.976\n"
     ]
    },
    {
     "data": {
      "image/png": "[encoded data removed]",
      "text/plain": [
       "<Figure size 864x360 with 2 Axes>"
      ]
     },
     "metadata": {
      "needs_background": "light"
     },
     "output_type": "display_data"
    },
    {
     "name": "stdout",
     "output_type": "stream",
     "text": [
      "CPU times: user 33min 58s, sys: 1min 5s, total: 35min 3s\n",
      "Wall time: 17min 56s\n"
     ]
    },
    {
     "data": {
      "text/plain": [
       "([0.45247965539569285,\n",
       "  0.22072229173773134,\n",
       "  0.17062319464076048,\n",
       "  0.14211157819768513,\n",
       "  0.1235805394521146,\n",
       "  0.10860176179915476,\n",
       "  0.09836988325423396,\n",
       "  0.09017084849112705,\n",
       "  0.08296462163519758,\n",
       "  0.07780413057154684],\n",
       " [0.25537872059813027,\n",
       "  0.1842344030737877,\n",
       "  0.1455307367576074,\n",
       "  0.1211602222410184,\n",
       "  0.11477340852157979,\n",
       "  0.09976295726020125,\n",
       "  0.09475504279230969,\n",
       "  0.08765528355784054,\n",
       "  0.08360390758872786,\n",
       "  0.0744219220278761],\n",
       " [0.8775375,\n",
       "  0.9353456,\n",
       "  0.9495269,\n",
       "  0.9568508,\n",
       "  0.961626,\n",
       "  0.9671342,\n",
       "  0.9699549,\n",
       "  0.97273123,\n",
       "  0.97467464,\n",
       "  0.97586286],\n",
       " [0.92494065,\n",
       "  0.94560915,\n",
       "  0.95757514,\n",
       "  0.9633109,\n",
       "  0.96578324,\n",
       "  0.97033226,\n",
       "  0.9710245,\n",
       "  0.973398,\n",
       "  0.9726068,\n",
       "  0.97577137])"
      ]
     },
     "execution_count": 285,
     "metadata": {},
     "output_type": "execute_result"
    }
   ],
   "source": [
    "%%time\n",
    "\n",
    "# TestNetwork -> 196 -> 128 -> 10 с ReLU и Layer normalization между всеми слоями \n",
    "sizes = [196, 128, 10]\n",
    "layers = []\n",
    "for size_input, size_output in zip(sizes, sizes[1:]):\n",
    "    layer = LayerNormalization()\n",
    "    layers.append(layer)\n",
    "    \n",
    "    layer = nn.Linear(size_input, size_output)\n",
    "    layers.append(layer)\n",
    "    \n",
    "    layers.append(nn.ReLU())\n",
    "del layers[-1]\n",
    "\n",
    "network = TestNetwork(nn.Sequential(*layers))\n",
    "train(network, train_loader, test_loader, 10, 0.001, device='cpu')"
   ]
  },
  {
   "cell_type": "code",
   "execution_count": 305,
   "metadata": {
    "scrolled": true
   },
   "outputs": [
    {
     "name": "stdout",
     "output_type": "stream",
     "text": [
      "Epoch 9... (Train/Test) NLL: 0.029/0.053\tAccuracy: 0.991/0.983\n"
     ]
    },
    {
     "data": {
      "image/png": "[encoded data removed]",
      "text/plain": [
       "<Figure size 864x360 with 2 Axes>"
      ]
     },
     "metadata": {
      "needs_background": "light"
     },
     "output_type": "display_data"
    },
    {
     "name": "stdout",
     "output_type": "stream",
     "text": [
      "CPU times: user 9min 43s, sys: 16 s, total: 9min 59s\n",
      "Wall time: 5min 3s\n"
     ]
    },
    {
     "data": {
      "text/plain": [
       "([0.4064784451786961,\n",
       "  0.08881677263803574,\n",
       "  0.06838173448427845,\n",
       "  0.055439428311151104,\n",
       "  0.0475627878047367,\n",
       "  0.042346512422467994,\n",
       "  0.03688378803464753,\n",
       "  0.03358787282068195,\n",
       "  0.030448956188307934,\n",
       "  0.028639563213863066],\n",
       " [0.09525040763465664,\n",
       "  0.06925223043919364,\n",
       "  0.059622170002777364,\n",
       "  0.058347902139884576,\n",
       "  0.051510457338505906,\n",
       "  0.053907528492368614,\n",
       "  0.05971380571622543,\n",
       "  0.05378709780125985,\n",
       "  0.056672444494140536,\n",
       "  0.052648245091726886],\n",
       " [0.87452805,\n",
       "  0.97274786,\n",
       "  0.97860026,\n",
       "  0.9820263,\n",
       "  0.98484695,\n",
       "  0.9861852,\n",
       "  0.98820627,\n",
       "  0.98912245,\n",
       "  0.9896167,\n",
       "  0.9905273],\n",
       " [0.9702334,\n",
       "  0.9775514,\n",
       "  0.97962815,\n",
       "  0.9806171,\n",
       "  0.9817049,\n",
       "  0.982496,\n",
       "  0.9820016,\n",
       "  0.98269385,\n",
       "  0.9821994,\n",
       "  0.98269385])"
      ]
     },
     "execution_count": 305,
     "metadata": {},
     "output_type": "execute_result"
    }
   ],
   "source": [
    "%%time\n",
    "\n",
    "# TestNetwork -> 196 -> 128 -> 10 с ReLU и Batch normalization между всеми слоями \n",
    "sizes = [196, 128, 10]\n",
    "layers = []\n",
    "for size_input, size_output in zip(sizes, sizes[1:]):\n",
    "    layer = BatchNormalization()\n",
    "    layers.append(layer)\n",
    "    \n",
    "    layer = nn.Linear(size_input, size_output)\n",
    "    layers.append(layer)\n",
    "    \n",
    "    layers.append(nn.ReLU())\n",
    "del layers[-1]\n",
    "\n",
    "network = TestNetwork(nn.Sequential(*layers))\n",
    "train(network, train_loader, test_loader, 10, 0.001, device='cpu')"
   ]
  },
  {
   "cell_type": "markdown",
   "metadata": {
    "id": "CudyBOIgaf_X"
   },
   "source": [
    "<i> 3.3 Сделайте выводы по третьей части </i>"
   ]
  },
  {
   "cell_type": "markdown",
   "metadata": {
    "id": "PgZh16-IvluR"
   },
   "source": [
    "1. Действительно, нормализация помогает улучшить результаты обучение.\n",
    "2. Нормализация по батчам в конкретно этом случае работает чуть лучше чем нормализация по нейронам.\n",
    "3. Но, к сожалению, неудобно использовать нормализацию по батчам в производстве и в исследованиях из-за больших данных и необходимости подбирать новый гиперпараметр."
   ]
  },
  {
   "cell_type": "markdown",
   "metadata": {
    "id": "8VTz6VQ5af_Z"
   },
   "source": [
    "#### Feedback (опционально)"
   ]
  },
  {
   "cell_type": "markdown",
   "metadata": {
    "id": "ewz7GZvvaf_Z"
   },
   "source": [
    "Здесь вы можете оставить список опечаток из лекции или семинара:"
   ]
  },
  {
   "cell_type": "markdown",
   "metadata": {
    "id": "XCSe88HUaf_a"
   },
   "source": []
  },
  {
   "cell_type": "markdown",
   "metadata": {
    "id": "58N5yqKUaf_b"
   },
   "source": [
    "Здесь вы можете оставить комментарии по лекции или семинару:"
   ]
  },
  {
   "cell_type": "markdown",
   "metadata": {
    "id": "SeGFzT7vaf_b"
   },
   "source": []
  }
 ],
 "metadata": {
  "accelerator": "GPU",
  "colab": {
   "collapsed_sections": [],
   "name": "[2020] Practice task 5, Speedup.ipynb",
   "provenance": [],
   "toc_visible": true
  },
  "kernelspec": {
   "display_name": "Python 3",
   "language": "python",
   "name": "python3"
  },
  "language_info": {
   "codemirror_mode": {
    "name": "ipython",
    "version": 3
   },
   "file_extension": ".py",
   "mimetype": "text/x-python",
   "name": "python",
   "nbconvert_exporter": "python",
   "pygments_lexer": "ipython3",
   "version": "3.7.3"
  },
  "latex_envs": {
   "bibliofile": "biblio.bib",
   "cite_by": "apalike",
   "current_citInitial": 1,
   "eqLabelWithNumbers": true,
   "eqNumInitial": 0
  }
 },
 "nbformat": 4,
 "nbformat_minor": 1
}
